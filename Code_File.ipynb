{
 "cells": [
  {
   "cell_type": "code",
   "execution_count": 29,
   "metadata": {},
   "outputs": [
    {
     "name": "stdout",
     "output_type": "stream",
     "text": [
      "Using device: cuda\n"
     ]
    }
   ],
   "source": [
    "import os\n",
    "import json\n",
    "import numpy as np\n",
    "import torch\n",
    "import torch.nn as nn\n",
    "import torch.optim as optim\n",
    "from torch.utils.data import Dataset, DataLoader\n",
    "import torchvision.transforms as transforms\n",
    "from sklearn.decomposition import PCA\n",
    "from sklearn.metrics import classification_report, multilabel_confusion_matrix\n",
    "import matplotlib.pyplot as plt\n",
    "import rasterio\n",
    "from tqdm import tqdm\n",
    "import pandas as pd\n",
    "import gradio as gr\n",
    "\n",
    "# Check GPU\n",
    "device = torch.device(\"cuda\" if torch.cuda.is_available() else \"cpu\")\n",
    "print(f\"Using device: {device}\")"
   ]
  },
  {
   "cell_type": "markdown",
   "metadata": {},
   "source": [
    "### Load Pretrained SRGAN (ESRGAN)"
   ]
  },
  {
   "cell_type": "code",
   "execution_count": 30,
   "metadata": {},
   "outputs": [
    {
     "name": "stdout",
     "output_type": "stream",
     "text": [
      "Using device: cuda\n",
      "\n",
      "Running sanity checks...\n",
      "✓ 64x64 -> 256x256 [OK]\n",
      "✓ 128x128 -> 512x512 [OK]\n",
      "✓ 256x256 -> 1024x1024 [OK]\n",
      "\n",
      "Upscaling successful! Output shape: torch.Size([3, 256, 256])\n",
      "Output range: [0.34, 0.62] (should be in [0,1])\n"
     ]
    }
   ],
   "source": [
    "import torch\n",
    "from basicsr.archs.rrdbnet_arch import RRDBNet\n",
    "from basicsr.utils.download_util import load_file_from_url\n",
    "import os\n",
    "from typing import Tuple\n",
    "\n",
    "class SRGANWrapper:\n",
    "    \"\"\"\n",
    "    Enhanced SRGAN (ESRGAN) wrapper with proper input/output handling,\n",
    "    memory management, and error checking.\n",
    "    \"\"\"\n",
    "    \n",
    "    def __init__(self, device: torch.device = None):\n",
    "        \"\"\"\n",
    "        Initialize SRGAN model.\n",
    "        \n",
    "        Args:\n",
    "            device: Torch device to use (cuda/cpu). Auto-detects if None.\n",
    "        \"\"\"\n",
    "        self.device = device or torch.device(\"cuda\" if torch.cuda.is_available() else \"cpu\")\n",
    "        print(f\"Using device: {self.device}\")\n",
    "        \n",
    "        # Initialize model\n",
    "        self.model = self._init_model()\n",
    "        self._load_weights()\n",
    "        \n",
    "        # Verify model\n",
    "        self._run_sanity_checks()\n",
    "    \n",
    "    def _init_model(self) -> RRDBNet:\n",
    "        \"\"\"Initialize the RRDBNet architecture\"\"\"\n",
    "        return RRDBNet(\n",
    "            num_in_ch=3,\n",
    "            num_out_ch=3,\n",
    "            num_feat=64,\n",
    "            num_block=23,\n",
    "            num_grow_ch=32,\n",
    "            scale=4  # 4x upscaling\n",
    "        ).to(self.device).eval()\n",
    "    \n",
    "    def _load_weights(self):\n",
    "        \"\"\"Download and load pretrained weights\"\"\"\n",
    "        model_dir = \"pretrained_models\"\n",
    "        os.makedirs(model_dir, exist_ok=True)\n",
    "        \n",
    "        model_url = \"https://github.com/xinntao/Real-ESRGAN/releases/download/v0.1.0/RealESRGAN_x4plus.pth\"\n",
    "        model_path = os.path.join(model_dir, \"RealESRGAN_x4plus.pth\")\n",
    "        \n",
    "        if not os.path.exists(model_path):\n",
    "            model_path = load_file_from_url(model_url, model_dir=model_dir)\n",
    "        \n",
    "        state_dict = torch.load(model_path, map_location=self.device)\n",
    "        \n",
    "        # Handle different state dict formats\n",
    "        if 'params_ema' in state_dict:\n",
    "            self.model.load_state_dict(state_dict['params_ema'])\n",
    "        elif 'params' in state_dict:\n",
    "            self.model.load_state_dict(state_dict['params'])\n",
    "        else:\n",
    "            self.model.load_state_dict(state_dict)\n",
    "    \n",
    "    def _run_sanity_checks(self):\n",
    "        \"\"\"Verify model works with different input sizes\"\"\"\n",
    "        test_sizes = [64, 128, 256]  # Test various input sizes\n",
    "        print(\"\\nRunning sanity checks...\")\n",
    "        \n",
    "        with torch.no_grad():\n",
    "            for size in test_sizes:\n",
    "                dummy_input = torch.randn(1, 3, size, size).to(self.device)\n",
    "                output = self.model(dummy_input)\n",
    "                \n",
    "                expected_size = size * 4\n",
    "                assert output.shape[2] == expected_size and output.shape[3] == expected_size, \\\n",
    "                    f\"Upscaling failed for size {size}x{size}\"\n",
    "                \n",
    "                print(f\"✓ {size}x{size} -> {expected_size}x{expected_size} [OK]\")\n",
    "                torch.cuda.empty_cache()\n",
    "    \n",
    "    def upscale(self, image_tensor: torch.Tensor) -> torch.Tensor:\n",
    "        \"\"\"\n",
    "        Enhanced upscaling with proper input/output handling\n",
    "        \n",
    "        Args:\n",
    "            image_tensor: Input tensor (C,H,W) in either [0,1] or [-1,1] range\n",
    "            \n",
    "        Returns:\n",
    "            Upscaled tensor (C,4*H,4*W) in same range as input\n",
    "        \"\"\"\n",
    "        # Input validation\n",
    "        if not isinstance(image_tensor, torch.Tensor):\n",
    "            raise TypeError(\"Input must be a torch.Tensor\")\n",
    "            \n",
    "        if len(image_tensor.shape) != 3:\n",
    "            raise ValueError(\"Input must be 3D tensor (C,H,W)\")\n",
    "            \n",
    "        if image_tensor.shape[0] != 3:\n",
    "            raise ValueError(\"Input must have 3 channels\")\n",
    "        \n",
    "        # Detect input range\n",
    "        input_max = image_tensor.max().item()\n",
    "        was_zero_one = input_max <= 1.0\n",
    "        \n",
    "        if was_zero_one and input_max > 1.0:\n",
    "            raise ValueError(\"Input tensor appears to be in invalid range\")\n",
    "        \n",
    "        with torch.no_grad():\n",
    "            try:\n",
    "                # Store original device and move to model device\n",
    "                orig_device = image_tensor.device\n",
    "                image_tensor = image_tensor.to(self.device)\n",
    "                \n",
    "                # Normalize to [-1,1] if needed\n",
    "                if was_zero_one:\n",
    "                    image_tensor = image_tensor * 2 - 1\n",
    "                \n",
    "                # Upscale\n",
    "                result = self.model(image_tensor.unsqueeze(0)).squeeze(0)\n",
    "                \n",
    "                # Convert back to original range\n",
    "                if was_zero_one:\n",
    "                    result = (result + 1) / 2\n",
    "                \n",
    "                return result.to(orig_device)\n",
    "                \n",
    "            finally:\n",
    "                # Clean up\n",
    "                torch.cuda.empty_cache()\n",
    "    \n",
    "    def __call__(self, image_tensor: torch.Tensor) -> torch.Tensor:\n",
    "        \"\"\"Alias for upscale()\"\"\"\n",
    "        return self.upscale(image_tensor)\n",
    "\n",
    " \n",
    "# Example usage\n",
    "if __name__ == \"__main__\":\n",
    "    # Initialize\n",
    "    srgan = SRGANWrapper()\n",
    "    \n",
    "    # Create test tensor (in [0,1] range)\n",
    "    test_input = torch.rand(3, 64, 64)  \n",
    "    \n",
    "    # Upscale\n",
    "    try:\n",
    "        output = srgan.upscale(test_input)\n",
    "        print(f\"\\nUpscaling successful! Output shape: {output.shape}\")\n",
    "        \n",
    "        # Verify output range\n",
    "        output_min, output_max = output.min().item(), output.max().item()\n",
    "        print(f\"Output range: [{output_min:.2f}, {output_max:.2f}] (should be in [0,1])\")\n",
    "        \n",
    "    except Exception as e:\n",
    "        print(f\"\\nError during upscaling: {str(e)}\")"
   ]
  },
  {
   "cell_type": "markdown",
   "metadata": {},
   "source": [
    "### PCA for Band Selection"
   ]
  },
  {
   "cell_type": "code",
   "execution_count": 31,
   "metadata": {},
   "outputs": [],
   "source": [
    "import numpy as np\n",
    "import torch\n",
    "from sklearn.decomposition import PCA\n",
    "from sklearn.preprocessing import StandardScaler\n",
    "from typing import Tuple, Union, Optional\n",
    "\n",
    "def apply_pca(\n",
    "    tif_img: Union[np.ndarray, torch.Tensor],\n",
    "    n_components: int = 5,\n",
    "    pca: Optional[PCA] = None,\n",
    "    fit: bool = False,\n",
    "    scaler: Optional[StandardScaler] = None,\n",
    "    eps: float = 1e-8\n",
    ") -> Tuple[Union[torch.Tensor, np.ndarray], ...]:\n",
    "    \"\"\"\n",
    "    Enhanced PCA application for spectral band reduction with proper normalization and error handling.\n",
    "    \n",
    "    Args:\n",
    "        tif_img: Input image as (C,H,W) tensor or (H,W,C) numpy array\n",
    "        n_components: Number of PCA components to keep (default: 5)\n",
    "        pca: Pre-trained PCA object (required if fit=False)\n",
    "        fit: Whether to fit new PCA (True) or use existing (False)\n",
    "        scaler: Pre-trained StandardScaler (required if fit=False and using normalization)\n",
    "        eps: Small value to prevent division by zero in standardization\n",
    "        \n",
    "    Returns:\n",
    "        If fit=True: (reduced, pca, scaler)\n",
    "        If fit=False: (reduced, pca)\n",
    "        \n",
    "        Where:\n",
    "        - reduced: Output tensor/array (n_components,H,W)\n",
    "        - pca: Fitted PCA object\n",
    "        - scaler: Fitted StandardScaler (only if fit=True)\n",
    "    \n",
    "    Raises:\n",
    "        ValueError: For invalid inputs or inconsistent arguments\n",
    "        TypeError: For incorrect input types\n",
    "    \"\"\"\n",
    "    # Input validation\n",
    "    if not isinstance(tif_img, (np.ndarray, torch.Tensor)):\n",
    "        raise TypeError(\"Input must be numpy array or torch tensor\")\n",
    "        \n",
    "    if len(tif_img.shape) != 3:\n",
    "        raise ValueError(\"Input must be 3D (C,H,W) or (H,W,C)\")\n",
    "    \n",
    "    if not fit and pca is None:\n",
    "        raise ValueError(\"PCA object must be provided when fit=False\")\n",
    "    \n",
    "    # Convert tensor to numpy if needed\n",
    "    if torch.is_tensor(tif_img):\n",
    "        tif_img = tif_img.cpu().numpy()\n",
    "    \n",
    "    # Ensure channels-last format (H,W,C)\n",
    "    if tif_img.shape[0] < tif_img.shape[-1]:  # Channel-first input\n",
    "        tif_img = np.moveaxis(tif_img, 0, -1)\n",
    "    \n",
    "    original_shape = tif_img.shape\n",
    "    flattened = tif_img.reshape(-1, original_shape[-1])\n",
    "    \n",
    "    # Standardize data (with safety checks)\n",
    "    if fit:\n",
    "        scaler = StandardScaler()\n",
    "        # Handle constant features to avoid division by zero\n",
    "        flattened = scaler.fit_transform(flattened)\n",
    "        flattened = np.nan_to_num(flattened, nan=0.0, posinf=0.0, neginf=0.0)\n",
    "    elif scaler is not None:\n",
    "        flattened = scaler.transform(flattened)\n",
    "        flattened = np.nan_to_num(flattened, nan=0.0, posinf=0.0, neginf=0.0)\n",
    "    \n",
    "    # Apply PCA with variance checking\n",
    "    if fit:\n",
    "        n_components = min(n_components, flattened.shape[1])\n",
    "        pca = PCA(n_components=n_components)\n",
    "        reduced = pca.fit_transform(flattened)\n",
    "        \n",
    "        # Warn if explained variance is low\n",
    "        explained_variance = np.sum(pca.explained_variance_ratio_)\n",
    "        if explained_variance < 0.9:  # 90% threshold\n",
    "            print(f\"Warning: Only {explained_variance:.1%} variance explained with {n_components} components\")\n",
    "    else:\n",
    "        # Check component compatibility\n",
    "        if pca.n_components_ != n_components:\n",
    "            print(f\"Warning: Requested {n_components} components but PCA has {pca.n_components_}\")\n",
    "        reduced = pca.transform(flattened)\n",
    "    \n",
    "    # Reshape and convert back\n",
    "    reduced = reduced.reshape(original_shape[0], original_shape[1], -1)  # -1 handles cases where n_components != expected\n",
    "    \n",
    "    # Maintain input type (numpy or tensor)\n",
    "    if isinstance(tif_img, np.ndarray):\n",
    "        reduced = np.moveaxis(reduced, -1, 0)\n",
    "    else:\n",
    "        reduced = torch.from_numpy(np.moveaxis(reduced, -1, 0)).float()\n",
    "    \n",
    "    return (reduced, pca, scaler) if fit else (reduced, pca)"
   ]
  },
  {
   "cell_type": "markdown",
   "metadata": {},
   "source": [
    " ### Load Dataset Splits & Label Map"
   ]
  },
  {
   "cell_type": "code",
   "execution_count": 32,
   "metadata": {},
   "outputs": [
    {
     "name": "stdout",
     "output_type": "stream",
     "text": [
      "✅ Final dataset sizes:\n",
      "Train: 18900 samples (10 classes)\n",
      "Test: 2700 samples (10 classes)\n",
      "Validation: 5400 samples (10 classes)\n"
     ]
    }
   ],
   "source": [
    "import os\n",
    "import json\n",
    "import pandas as pd\n",
    "\n",
    "# Define base directory\n",
    "base_dir = r\"C:\\Users\\Charan\\SEM_FILES\\SEM_6\\Computer_vision\\Project\\EuroSAT\"\n",
    "\n",
    "# Load label map\n",
    "with open(os.path.join(base_dir, \"EuroSAT\", \"label_map.json\")) as f:\n",
    "    label_map = json.load(f)  # Example: {\"AnnualCrop\": 0, \"Forest\": 1, ...}\n",
    "\n",
    "# Reverse mapping: {0: \"AnnualCrop\", 1: \"Forest\", ...}\n",
    "label_map_inv = {v: k for k, v in label_map.items()}\n",
    "\n",
    "# Load datasets\n",
    "train_df = pd.read_csv(os.path.join(base_dir, \"EuroSAT\", \"train.csv\"))\n",
    "test_df = pd.read_csv(os.path.join(base_dir, \"EuroSAT\", \"test.csv\"))\n",
    "val_df = pd.read_csv(os.path.join(base_dir, \"EuroSAT\", \"validation.csv\"))\n",
    "\n",
    "# Normalize paths (replace forward slashes with OS-specific separator)\n",
    "for df in [train_df, test_df, val_df]:\n",
    "    df[\"Filename\"] = df[\"Filename\"].str.replace(\"/\", os.sep)\n",
    "\n",
    "\n",
    "# Print dataset sizes\n",
    "print(f\"✅ Final dataset sizes:\")\n",
    "print(f\"Train: {len(train_df)} samples ({len(label_map)} classes)\")\n",
    "print(f\"Test: {len(test_df)} samples ({len(label_map)} classes)\")\n",
    "print(f\"Validation: {len(val_df)} samples ({len(label_map)} classes)\")\n",
    "\n"
   ]
  },
  {
   "cell_type": "markdown",
   "metadata": {},
   "source": [
    "### Custom Dataset Class (SRGAN + PCA)"
   ]
  },
  {
   "cell_type": "code",
   "execution_count": 33,
   "metadata": {},
   "outputs": [],
   "source": [
    "import os\n",
    "import torch\n",
    "from torchvision import transforms\n",
    "from PIL import Image\n",
    "import rasterio\n",
    "import numpy as np\n",
    "from sklearn.decomposition import PCA\n",
    "from sklearn.preprocessing import StandardScaler\n",
    "import warnings\n",
    "warnings.filterwarnings('ignore')\n",
    "\n",
    "class EuroSATDataset(torch.utils.data.Dataset):\n",
    "    def __init__(self, rgb_dir, tif_dir, split_df, transform=None, pca=None, scaler=None, fit=False):\n",
    "        self.rgb_dir = rgb_dir\n",
    "        self.tif_dir = tif_dir\n",
    "        self.split_df = split_df.copy()\n",
    "        self.transform = transform\n",
    "        self.pca = pca\n",
    "        self.scaler = scaler\n",
    "        self.fit_pca = fit\n",
    "        self.n_components = 5  # Fixed number of PCA components\n",
    "\n",
    "        # Standardize paths\n",
    "        self.split_df['Filename'] = self.split_df['Filename'].str.replace('\\\\', '/')\n",
    "        \n",
    "        # Verify files exist\n",
    "        self._verify_files_exist()\n",
    "        \n",
    "        # Initialize class mappings\n",
    "        self.classes = sorted(split_df['ClassName'].unique())\n",
    "        self.class_to_idx = {cls: i for i, cls in enumerate(self.classes)}\n",
    "        self.idx_to_class = {i: cls for i, cls in enumerate(self.classes)}\n",
    "        \n",
    "        # Initialize dummy tensors with correct dimensions\n",
    "        self.dummy_rgb = torch.zeros(3, 64, 64)\n",
    "        self.dummy_spec = torch.zeros(self.n_components, 64, 64)  # Always 5 channels after PCA\n",
    "        self.dummy_label = torch.zeros(len(self.classes))\n",
    "\n",
    "    def _verify_files_exist(self):\n",
    "        \"\"\"Verify all files exist and are readable\"\"\"\n",
    "        missing_files = []\n",
    "        corrupt_files = []\n",
    "        \n",
    "        for idx, row in self.split_df.iterrows():\n",
    "            img_path = os.path.normpath(row['Filename'])\n",
    "            rgb_path = os.path.join(self.rgb_dir, img_path)\n",
    "            tif_path = os.path.join(self.tif_dir, img_path.replace('.jpg', '.tif'))\n",
    "            \n",
    "            # Check existence\n",
    "            if not os.path.exists(rgb_path):\n",
    "                missing_files.append(rgb_path)\n",
    "                continue\n",
    "            if not os.path.exists(tif_path):\n",
    "                missing_files.append(tif_path)\n",
    "                continue\n",
    "                \n",
    "            # Check readability\n",
    "            try:\n",
    "                with Image.open(rgb_path) as img:\n",
    "                    img.verify()\n",
    "                with rasterio.open(tif_path) as src:\n",
    "                    _ = src.read()\n",
    "            except Exception as e:\n",
    "                corrupt_files.append(f\"{rgb_path} or {tif_path} - {str(e)}\")\n",
    "        \n",
    "        if missing_files or corrupt_files:\n",
    "            error_msg = []\n",
    "            if missing_files:\n",
    "                error_msg.append(f\"Missing {len(missing_files)} files. First 3: {missing_files[:3]}\")\n",
    "            if corrupt_files:\n",
    "                error_msg.append(f\"Corrupt {len(corrupt_files)} files. First 3: {corrupt_files[:3]}\")\n",
    "            raise FileNotFoundError(\"\\n\".join(error_msg))\n",
    "\n",
    "    def __len__(self):\n",
    "        return len(self.split_df)\n",
    "\n",
    "    # Modify your dataset class's __getitem__ method:\n",
    "    def __getitem__(self, idx):\n",
    "        try:\n",
    "            img_path = os.path.normpath(self.split_df.iloc[idx]['Filename'])\n",
    "            rgb_path = os.path.join(self.rgb_dir, img_path)\n",
    "            tif_path = os.path.join(self.tif_dir, img_path.replace('.jpg', '.tif'))\n",
    "\n",
    "            # Load RGB image\n",
    "            with Image.open(rgb_path) as img:\n",
    "                rgb_img = img.convert(\"RGB\")\n",
    "                rgb_tensor = transforms.ToTensor()(rgb_img).float()\n",
    "\n",
    "            # Load multi-spectral image\n",
    "            with rasterio.open(tif_path) as src:\n",
    "                tif_img = src.read()\n",
    "                tif_tensor = torch.from_numpy(tif_img).float()\n",
    "\n",
    "            # Apply PCA reduction\n",
    "            if self.pca is not None:\n",
    "                tif_tensor = self._apply_pca(tif_tensor)\n",
    "\n",
    "            # Apply transforms ONLY to RGB images\n",
    "            if self.transform:\n",
    "                rgb_tensor = self.transform(rgb_tensor)\n",
    "                # Don't transform spectral data\n",
    "\n",
    "            # Create label tensor\n",
    "            label_idx = self.split_df.iloc[idx]['Label']\n",
    "            label_tensor = torch.zeros(len(self.classes), dtype=torch.float32)\n",
    "            label_tensor[label_idx] = 1.0\n",
    "\n",
    "            return rgb_tensor, tif_tensor, label_tensor\n",
    "\n",
    "        except Exception as e:\n",
    "            print(f\"Error loading sample {idx}: {str(e)}\")\n",
    "            return self.dummy_rgb.clone(), self.dummy_spec.clone(), self.dummy_label.clone()\n",
    "\n",
    "    def _apply_pca(self, tif_tensor):\n",
    "        \"\"\"Apply PCA to reduce 13 channels to n_components\"\"\"\n",
    "        try:\n",
    "            # Convert to numpy and reshape for PCA\n",
    "            tif_np = tif_tensor.numpy()  # Shape: (13, H, W)\n",
    "            flattened = tif_np.reshape(13, -1).T  # Shape: (H*W, 13)\n",
    "            \n",
    "            # Apply standardization\n",
    "            if self.scaler is not None:\n",
    "                flattened = self.scaler.transform(flattened)\n",
    "            \n",
    "            # Apply PCA\n",
    "            if self.pca is not None:\n",
    "                reduced = self.pca.transform(flattened)  # Shape: (H*W, n_components)\n",
    "                # Reshape back to image format\n",
    "                reduced = reduced.T.reshape(self.n_components, *tif_np.shape[1:])  # (n_components, H, W)\n",
    "                return torch.from_numpy(reduced).float()\n",
    "            \n",
    "            return tif_tensor  # Fallback if no PCA\n",
    "            \n",
    "        except Exception as e:\n",
    "            print(f\"PCA failed: {str(e)}\")\n",
    "            return torch.zeros(self.n_components, *tif_tensor.shape[1:])  # Return dummy with correct channels\n",
    "\n",
    "\n",
    "def create_safe_dataloader(dataset, shuffle=True):\n",
    "    return DataLoader(\n",
    "        dataset,\n",
    "        batch_size=8,\n",
    "        shuffle=shuffle,\n",
    "        num_workers=0,  # Start with 0 workers for debugging\n",
    "        pin_memory=False,\n",
    "        persistent_workers=False,\n",
    "        prefetch_factor=None,\n",
    "        worker_init_fn=None\n",
    "    )"
   ]
  },
  {
   "cell_type": "markdown",
   "metadata": {},
   "source": [
    "### Phase 2: Model Design (Attention + Multi-Label)\n",
    "### Cell 7: Cross-Attention Fusion"
   ]
  },
  {
   "cell_type": "code",
   "execution_count": 34,
   "metadata": {},
   "outputs": [],
   "source": [
    "import torch\n",
    "import torch.nn as nn\n",
    "\n",
    "class CrossAttention(nn.Module):\n",
    "    def __init__(self, channels, num_heads=4, dropout=0.1):\n",
    "        \"\"\"\n",
    "        Enhanced Cross-Attention Module\n",
    "        \n",
    "        Args:\n",
    "            channels: Input channel dimension\n",
    "            num_heads: Number of attention heads\n",
    "            dropout: Dropout probability\n",
    "        \"\"\"\n",
    "        super().__init__()\n",
    "        self.num_heads = num_heads\n",
    "        self.head_dim = channels // num_heads\n",
    "        \n",
    "        assert self.head_dim * num_heads == channels, \"channels must be divisible by num_heads\"\n",
    "        \n",
    "        # Linear projections\n",
    "        self.query = nn.Linear(channels, channels)\n",
    "        self.key = nn.Linear(channels, channels)\n",
    "        self.value = nn.Linear(channels, channels)\n",
    "        \n",
    "        # Output projection\n",
    "        self.proj = nn.Linear(channels, channels)\n",
    "        \n",
    "        # Regularization\n",
    "        self.dropout = nn.Dropout(dropout)\n",
    "        self.layer_norm = nn.LayerNorm(channels)\n",
    "        \n",
    "        # Scaling factor\n",
    "        self.scale = self.head_dim ** -0.5\n",
    "\n",
    "    def forward(self, rgb_feat, spectral_feat):\n",
    "        \"\"\"\n",
    "        Args:\n",
    "            rgb_feat: RGB features (B, C, H, W)\n",
    "            spectral_feat: Spectral features (B, C, H', W')\n",
    "        Returns:\n",
    "            Fused features (B, C, H, W)\n",
    "        \"\"\"\n",
    "        B, C, H, W = rgb_feat.shape\n",
    "        _, _, H_s, W_s = spectral_feat.shape\n",
    "        \n",
    "        # Ensure both inputs have the same spatial dimensions\n",
    "        if (H_s, W_s) != (H, W):\n",
    "            spectral_feat = nn.functional.interpolate(spectral_feat, size=(H, W), mode='bilinear', align_corners=False)\n",
    "        \n",
    "        # Flatten spatial dimensions\n",
    "        rgb_flat = rgb_feat.view(B, C, -1).permute(0, 2, 1)  # (B, HW, C)\n",
    "        spectral_flat = spectral_feat.view(B, C, -1).permute(0, 2, 1)  # (B, HW, C)\n",
    "        \n",
    "        # Project queries, keys, values\n",
    "        q = self.query(rgb_flat)  # (B, HW, C)\n",
    "        k = self.key(spectral_flat)  # (B, HW, C)\n",
    "        v = self.value(spectral_flat)  # (B, HW, C)\n",
    "        \n",
    "        # Split into multiple heads\n",
    "        q = q.view(B, -1, self.num_heads, self.head_dim).transpose(1, 2)  # (B, nh, HW, hd)\n",
    "        k = k.view(B, -1, self.num_heads, self.head_dim).transpose(1, 2)  # (B, nh, HW, hd)\n",
    "        v = v.view(B, -1, self.num_heads, self.head_dim).transpose(1, 2)  # (B, nh, HW, hd)\n",
    "        \n",
    "        # Scaled dot-product attention\n",
    "        attn = (q @ k.transpose(-2, -1)) * self.scale  # (B, nh, HW, HW)\n",
    "        attn = attn.softmax(dim=-1)\n",
    "        attn = self.dropout(attn)\n",
    "        \n",
    "        # Combine values\n",
    "        out = (attn @ v).transpose(1, 2).contiguous()  # (B, HW, nh, hd)\n",
    "        out = out.view(B, -1, C)  # (B, HW, C)\n",
    "        \n",
    "        # Project back to channel dimension\n",
    "        out = self.proj(out)\n",
    "        out = self.dropout(out)\n",
    "        \n",
    "        # Residual connection and layer norm\n",
    "        out = self.layer_norm(out + rgb_flat)\n",
    "        \n",
    "        # Reshape back to spatial dimensions\n",
    "        out = out.permute(0, 2, 1).view(B, C, H, W)\n",
    "        \n",
    "        return out\n"
   ]
  },
  {
   "cell_type": "markdown",
   "metadata": {},
   "source": [
    "### Multi-Stream CNN with Attention"
   ]
  },
  {
   "cell_type": "code",
   "execution_count": 35,
   "metadata": {},
   "outputs": [],
   "source": [
    "import torch\n",
    "import torch.nn as nn\n",
    "import torch.nn.functional as F\n",
    "\n",
    "\n",
    "\n",
    "class MultiStreamCNN(nn.Module):\n",
    "    def __init__(self, num_classes=10, attention_heads=4):\n",
    "        super().__init__()\n",
    "\n",
    "        self.rgb_cnn = nn.Sequential(\n",
    "            nn.Conv2d(3, 16, kernel_size=3, padding=1, bias=False),\n",
    "            nn.BatchNorm2d(16),\n",
    "            nn.ReLU(),\n",
    "            nn.MaxPool2d(2),  # 256 -> 128\n",
    "            nn.Conv2d(16, 32, kernel_size=3, padding=1, bias=False),\n",
    "            nn.BatchNorm2d(32),\n",
    "            nn.ReLU(),\n",
    "            nn.MaxPool2d(2)   # 128 -> 64\n",
    "        )\n",
    "\n",
    "        self.spectral_cnn = nn.Sequential(\n",
    "            nn.Conv2d(5, 16, kernel_size=3, padding=1, bias=False),  # Changed from 13 → 5\n",
    "            nn.BatchNorm2d(16),\n",
    "            nn.ReLU(),\n",
    "            nn.MaxPool2d(2),  # 64 → 32\n",
    "            nn.Conv2d(16, 32, kernel_size=3, padding=1, bias=False),\n",
    "            nn.BatchNorm2d(32),\n",
    "            nn.ReLU(),\n",
    "            nn.MaxPool2d(2)   # 32 → 16\n",
    "        )\n",
    "\n",
    "        self.attention = CrossAttention(channels=32, num_heads=attention_heads)\n",
    "\n",
    "        # Adaptive pooling for dynamic input sizes\n",
    "        self.pool = nn.AdaptiveAvgPool2d((8, 8))  \n",
    "\n",
    "        self.fused_dim = 32 * 8 * 8  \n",
    "        self.total_dim = 3 * self.fused_dim  # RGB + Spectral + Attention\n",
    "\n",
    "        self.classifier = nn.Sequential(\n",
    "            nn.Linear(self.total_dim, 128),\n",
    "            nn.BatchNorm1d(128),\n",
    "            nn.ReLU(),\n",
    "            nn.Dropout(0.3),\n",
    "            nn.Linear(128, 64),\n",
    "            nn.BatchNorm1d(64),\n",
    "            nn.ReLU(),\n",
    "            nn.Dropout(0.2),\n",
    "            nn.Linear(64, num_classes)  # No Sigmoid here (correct for BCEWithLogitsLoss)\n",
    "        )\n",
    "\n",
    "    def forward(self, rgb, spectral):\n",
    "        # RGB feature extraction\n",
    "        rgb_feat = self.rgb_cnn(rgb)\n",
    "        \n",
    "        # Spectral feature extraction\n",
    "        spectral_feat = self.spectral_cnn(spectral)\n",
    "\n",
    "        # Attention fusion\n",
    "        fused = self.attention(rgb_feat, spectral_feat)\n",
    "\n",
    "        # Adaptive pooling for consistent feature size\n",
    "        rgb_feat = self.pool(rgb_feat)\n",
    "        spectral_feat = self.pool(spectral_feat)\n",
    "        fused = self.pool(fused)\n",
    "\n",
    "        # Flatten and concatenate\n",
    "        combined = torch.cat([\n",
    "            torch.flatten(rgb_feat, start_dim=1),\n",
    "            torch.flatten(spectral_feat, start_dim=1),\n",
    "            torch.flatten(fused, start_dim=1)\n",
    "        ], dim=1)\n",
    "\n",
    "        return self.classifier(combined)\n"
   ]
  },
  {
   "cell_type": "markdown",
   "metadata": {},
   "source": [
    "### Training Loop"
   ]
  },
  {
   "cell_type": "code",
   "execution_count": 166,
   "metadata": {},
   "outputs": [
    {
     "name": "stdout",
     "output_type": "stream",
     "text": [
      "Using device: cuda\n",
      "\n",
      "Fitting StandardScaler and PCA...\n"
     ]
    },
    {
     "name": "stderr",
     "output_type": "stream",
     "text": [
      "Loading spectral data: 100%|██████████| 18900/18900 [05:22<00:00, 58.62it/s]\n"
     ]
    },
    {
     "name": "stdout",
     "output_type": "stream",
     "text": [
      "PCA explained variance: 97.22%\n",
      "\n",
      "Testing data loading...\n",
      "Batch loaded successfully: [torch.Size([8, 3, 64, 64]), torch.Size([8, 5, 64, 64]), torch.Size([8, 10])]\n",
      "\n",
      "Epoch 1/50\n"
     ]
    },
    {
     "name": "stderr",
     "output_type": "stream",
     "text": [
      "                                                                                    \r"
     ]
    },
    {
     "name": "stdout",
     "output_type": "stream",
     "text": [
      "Train Loss: 0.1666 | Acc: 0.5193\n",
      "Val Loss: 0.0859 | Acc: 0.7907\n",
      "\n",
      "Epoch 2/50\n"
     ]
    },
    {
     "name": "stderr",
     "output_type": "stream",
     "text": [
      "                                                                                    \r"
     ]
    },
    {
     "name": "stdout",
     "output_type": "stream",
     "text": [
      "Train Loss: 0.1098 | Acc: 0.7125\n",
      "Val Loss: 0.0602 | Acc: 0.8641\n",
      "\n",
      "Epoch 3/50\n"
     ]
    },
    {
     "name": "stderr",
     "output_type": "stream",
     "text": [
      "                                                                                     \r"
     ]
    },
    {
     "name": "stdout",
     "output_type": "stream",
     "text": [
      "Train Loss: 0.0953 | Acc: 0.7607\n",
      "Val Loss: 0.0769 | Acc: 0.8159\n",
      "\n",
      "Epoch 4/50\n"
     ]
    },
    {
     "name": "stderr",
     "output_type": "stream",
     "text": [
      "                                                                                     \r"
     ]
    },
    {
     "name": "stdout",
     "output_type": "stream",
     "text": [
      "Train Loss: 0.0867 | Acc: 0.7865\n",
      "Val Loss: 0.0500 | Acc: 0.8880\n",
      "\n",
      "Epoch 5/50\n"
     ]
    },
    {
     "name": "stderr",
     "output_type": "stream",
     "text": [
      "                                                                                     \r"
     ]
    },
    {
     "name": "stdout",
     "output_type": "stream",
     "text": [
      "Train Loss: 0.0798 | Acc: 0.8061\n",
      "Val Loss: 0.0456 | Acc: 0.8935\n",
      "\n",
      "Epoch 6/50\n"
     ]
    },
    {
     "name": "stderr",
     "output_type": "stream",
     "text": [
      "                                                                                     \r"
     ]
    },
    {
     "name": "stdout",
     "output_type": "stream",
     "text": [
      "Train Loss: 0.0747 | Acc: 0.8193\n",
      "Val Loss: 0.0415 | Acc: 0.9031\n",
      "\n",
      "Epoch 7/50\n"
     ]
    },
    {
     "name": "stderr",
     "output_type": "stream",
     "text": [
      "                                                                                     \r"
     ]
    },
    {
     "name": "stdout",
     "output_type": "stream",
     "text": [
      "Train Loss: 0.0715 | Acc: 0.8261\n",
      "Val Loss: 0.0489 | Acc: 0.8835\n",
      "\n",
      "Epoch 8/50\n"
     ]
    },
    {
     "name": "stderr",
     "output_type": "stream",
     "text": [
      "                                                                                     \r"
     ]
    },
    {
     "name": "stdout",
     "output_type": "stream",
     "text": [
      "Train Loss: 0.0681 | Acc: 0.8355\n",
      "Val Loss: 0.0380 | Acc: 0.9178\n",
      "\n",
      "Epoch 9/50\n"
     ]
    },
    {
     "name": "stderr",
     "output_type": "stream",
     "text": [
      "                                                                                     \r"
     ]
    },
    {
     "name": "stdout",
     "output_type": "stream",
     "text": [
      "Train Loss: 0.0658 | Acc: 0.8422\n",
      "Val Loss: 0.0377 | Acc: 0.9174\n",
      "\n",
      "Epoch 10/50\n"
     ]
    },
    {
     "name": "stderr",
     "output_type": "stream",
     "text": [
      "                                                                                     \r"
     ]
    },
    {
     "name": "stdout",
     "output_type": "stream",
     "text": [
      "Train Loss: 0.0618 | Acc: 0.8516\n",
      "Val Loss: 0.0434 | Acc: 0.8961\n",
      "\n",
      "Epoch 11/50\n"
     ]
    },
    {
     "name": "stderr",
     "output_type": "stream",
     "text": [
      "                                                                                     \r"
     ]
    },
    {
     "name": "stdout",
     "output_type": "stream",
     "text": [
      "Train Loss: 0.0605 | Acc: 0.8539\n",
      "Val Loss: 0.0452 | Acc: 0.9000\n",
      "\n",
      "Epoch 12/50\n"
     ]
    },
    {
     "name": "stderr",
     "output_type": "stream",
     "text": [
      "                                                                                     \r"
     ]
    },
    {
     "name": "stdout",
     "output_type": "stream",
     "text": [
      "Train Loss: 0.0589 | Acc: 0.8592\n",
      "Val Loss: 0.0424 | Acc: 0.9024\n",
      "\n",
      "Epoch 13/50\n"
     ]
    },
    {
     "name": "stderr",
     "output_type": "stream",
     "text": [
      "                                                                                     \r"
     ]
    },
    {
     "name": "stdout",
     "output_type": "stream",
     "text": [
      "Train Loss: 0.0519 | Acc: 0.8756\n",
      "Val Loss: 0.0280 | Acc: 0.9378\n",
      "\n",
      "Epoch 14/50\n"
     ]
    },
    {
     "name": "stderr",
     "output_type": "stream",
     "text": [
      "                                                                                     \r"
     ]
    },
    {
     "name": "stdout",
     "output_type": "stream",
     "text": [
      "Train Loss: 0.0478 | Acc: 0.8864\n",
      "Val Loss: 0.0304 | Acc: 0.9369\n",
      "\n",
      "Epoch 15/50\n"
     ]
    },
    {
     "name": "stderr",
     "output_type": "stream",
     "text": [
      "                                                                                     \r"
     ]
    },
    {
     "name": "stdout",
     "output_type": "stream",
     "text": [
      "Train Loss: 0.0472 | Acc: 0.8851\n",
      "Val Loss: 0.0272 | Acc: 0.9407\n",
      "\n",
      "Epoch 16/50\n"
     ]
    },
    {
     "name": "stderr",
     "output_type": "stream",
     "text": [
      "                                                                                     \r"
     ]
    },
    {
     "name": "stdout",
     "output_type": "stream",
     "text": [
      "Train Loss: 0.0468 | Acc: 0.8890\n",
      "Val Loss: 0.0258 | Acc: 0.9426\n",
      "\n",
      "Epoch 17/50\n"
     ]
    },
    {
     "name": "stderr",
     "output_type": "stream",
     "text": [
      "                                                                                     \r"
     ]
    },
    {
     "name": "stdout",
     "output_type": "stream",
     "text": [
      "Train Loss: 0.0452 | Acc: 0.8907\n",
      "Val Loss: 0.0290 | Acc: 0.9354\n",
      "\n",
      "Epoch 18/50\n"
     ]
    },
    {
     "name": "stderr",
     "output_type": "stream",
     "text": [
      "                                                                                     \r"
     ]
    },
    {
     "name": "stdout",
     "output_type": "stream",
     "text": [
      "Train Loss: 0.0444 | Acc: 0.8940\n",
      "Val Loss: 0.0281 | Acc: 0.9369\n",
      "\n",
      "Epoch 19/50\n"
     ]
    },
    {
     "name": "stderr",
     "output_type": "stream",
     "text": [
      "                                                                                     \r"
     ]
    },
    {
     "name": "stdout",
     "output_type": "stream",
     "text": [
      "Train Loss: 0.0426 | Acc: 0.8970\n",
      "Val Loss: 0.0278 | Acc: 0.9422\n",
      "\n",
      "Epoch 20/50\n"
     ]
    },
    {
     "name": "stderr",
     "output_type": "stream",
     "text": [
      "                                                                                     \r"
     ]
    },
    {
     "name": "stdout",
     "output_type": "stream",
     "text": [
      "Train Loss: 0.0396 | Acc: 0.9071\n",
      "Val Loss: 0.0242 | Acc: 0.9476\n",
      "\n",
      "Epoch 21/50\n"
     ]
    },
    {
     "name": "stderr",
     "output_type": "stream",
     "text": [
      "                                                                                     \r"
     ]
    },
    {
     "name": "stdout",
     "output_type": "stream",
     "text": [
      "Train Loss: 0.0377 | Acc: 0.9117\n",
      "Val Loss: 0.0241 | Acc: 0.9457\n",
      "\n",
      "Epoch 22/50\n"
     ]
    },
    {
     "name": "stderr",
     "output_type": "stream",
     "text": [
      "                                                                                     \r"
     ]
    },
    {
     "name": "stdout",
     "output_type": "stream",
     "text": [
      "Train Loss: 0.0382 | Acc: 0.9100\n",
      "Val Loss: 0.0242 | Acc: 0.9439\n",
      "\n",
      "Epoch 23/50\n"
     ]
    },
    {
     "name": "stderr",
     "output_type": "stream",
     "text": [
      "                                                                                     \r"
     ]
    },
    {
     "name": "stdout",
     "output_type": "stream",
     "text": [
      "Train Loss: 0.0369 | Acc: 0.9133\n",
      "Val Loss: 0.0242 | Acc: 0.9494\n",
      "\n",
      "Epoch 24/50\n"
     ]
    },
    {
     "name": "stderr",
     "output_type": "stream",
     "text": [
      "                                                                                     \r"
     ]
    },
    {
     "name": "stdout",
     "output_type": "stream",
     "text": [
      "Train Loss: 0.0363 | Acc: 0.9090\n",
      "Val Loss: 0.0242 | Acc: 0.9454\n",
      "\n",
      "Epoch 25/50\n"
     ]
    },
    {
     "name": "stderr",
     "output_type": "stream",
     "text": [
      "                                                                                     \r"
     ]
    },
    {
     "name": "stdout",
     "output_type": "stream",
     "text": [
      "Train Loss: 0.0352 | Acc: 0.9176\n",
      "Val Loss: 0.0229 | Acc: 0.9496\n",
      "\n",
      "Epoch 26/50\n"
     ]
    },
    {
     "name": "stderr",
     "output_type": "stream",
     "text": [
      "                                                                                     \r"
     ]
    },
    {
     "name": "stdout",
     "output_type": "stream",
     "text": [
      "Train Loss: 0.0332 | Acc: 0.9192\n",
      "Val Loss: 0.0220 | Acc: 0.9546\n",
      "\n",
      "Epoch 27/50\n"
     ]
    },
    {
     "name": "stderr",
     "output_type": "stream",
     "text": [
      "                                                                                     \r"
     ]
    },
    {
     "name": "stdout",
     "output_type": "stream",
     "text": [
      "Train Loss: 0.0340 | Acc: 0.9179\n",
      "Val Loss: 0.0226 | Acc: 0.9494\n",
      "\n",
      "Epoch 28/50\n"
     ]
    },
    {
     "name": "stderr",
     "output_type": "stream",
     "text": [
      "                                                                                     \r"
     ]
    },
    {
     "name": "stdout",
     "output_type": "stream",
     "text": [
      "Train Loss: 0.0326 | Acc: 0.9227\n",
      "Val Loss: 0.0228 | Acc: 0.9517\n",
      "\n",
      "Epoch 29/50\n"
     ]
    },
    {
     "name": "stderr",
     "output_type": "stream",
     "text": [
      "                                                                                     \r"
     ]
    },
    {
     "name": "stdout",
     "output_type": "stream",
     "text": [
      "Train Loss: 0.0332 | Acc: 0.9218\n",
      "Val Loss: 0.0211 | Acc: 0.9528\n",
      "\n",
      "Epoch 30/50\n"
     ]
    },
    {
     "name": "stderr",
     "output_type": "stream",
     "text": [
      "                                                                                     \r"
     ]
    },
    {
     "name": "stdout",
     "output_type": "stream",
     "text": [
      "Train Loss: 0.0326 | Acc: 0.9222\n",
      "Val Loss: 0.0205 | Acc: 0.9552\n",
      "\n",
      "Epoch 31/50\n"
     ]
    },
    {
     "name": "stderr",
     "output_type": "stream",
     "text": [
      "                                                                                     \r"
     ]
    },
    {
     "name": "stdout",
     "output_type": "stream",
     "text": [
      "Train Loss: 0.0331 | Acc: 0.9215\n",
      "Val Loss: 0.0213 | Acc: 0.9546\n",
      "\n",
      "Epoch 32/50\n"
     ]
    },
    {
     "name": "stderr",
     "output_type": "stream",
     "text": [
      "                                                                                     \r"
     ]
    },
    {
     "name": "stdout",
     "output_type": "stream",
     "text": [
      "Train Loss: 0.0324 | Acc: 0.9252\n",
      "Val Loss: 0.0203 | Acc: 0.9535\n",
      "\n",
      "Epoch 33/50\n"
     ]
    },
    {
     "name": "stderr",
     "output_type": "stream",
     "text": [
      "                                                                                     \r"
     ]
    },
    {
     "name": "stdout",
     "output_type": "stream",
     "text": [
      "Train Loss: 0.0317 | Acc: 0.9222\n",
      "Val Loss: 0.0225 | Acc: 0.9491\n",
      "\n",
      "Epoch 34/50\n"
     ]
    },
    {
     "name": "stderr",
     "output_type": "stream",
     "text": [
      "                                                                                     \r"
     ]
    },
    {
     "name": "stdout",
     "output_type": "stream",
     "text": [
      "Train Loss: 0.0313 | Acc: 0.9253\n",
      "Val Loss: 0.0211 | Acc: 0.9544\n",
      "\n",
      "Epoch 35/50\n"
     ]
    },
    {
     "name": "stderr",
     "output_type": "stream",
     "text": [
      "                                                                                     \r"
     ]
    },
    {
     "name": "stdout",
     "output_type": "stream",
     "text": [
      "Train Loss: 0.0311 | Acc: 0.9242\n",
      "Val Loss: 0.0221 | Acc: 0.9498\n",
      "\n",
      "Epoch 36/50\n"
     ]
    },
    {
     "name": "stderr",
     "output_type": "stream",
     "text": [
      "                                                                                     \r"
     ]
    },
    {
     "name": "stdout",
     "output_type": "stream",
     "text": [
      "Train Loss: 0.0306 | Acc: 0.9266\n",
      "Val Loss: 0.0205 | Acc: 0.9543\n",
      "\n",
      "Epoch 37/50\n"
     ]
    },
    {
     "name": "stderr",
     "output_type": "stream",
     "text": [
      "                                                                                     \r"
     ]
    },
    {
     "name": "stdout",
     "output_type": "stream",
     "text": [
      "Train Loss: 0.0310 | Acc: 0.9267\n",
      "Val Loss: 0.0208 | Acc: 0.9544\n",
      "Early stopping after 5 epochs without improvement\n",
      "\n",
      "Final Classification Report:\n",
      "                      precision    recall  f1-score   support\n",
      "\n",
      "          AnnualCrop     0.9385    0.9220    0.9302     22200\n",
      "              Forest     0.9591    0.9899    0.9743     22200\n",
      "HerbaceousVegetation     0.9135    0.9441    0.9286     22200\n",
      "             Highway     0.9429    0.8799    0.9103     18500\n",
      "          Industrial     0.9529    0.9589    0.9559     18500\n",
      "             Pasture     0.9231    0.8500    0.8850     14800\n",
      "       PermanentCrop     0.9036    0.8886    0.8960     18500\n",
      "         Residential     0.9559    0.9564    0.9562     22200\n",
      "               River     0.9507    0.9591    0.9549     18500\n",
      "             SeaLake     0.9968    0.9859    0.9913     22200\n",
      "\n",
      "           micro avg     0.9450    0.9374    0.9412    199800\n",
      "           macro avg     0.9437    0.9335    0.9383    199800\n",
      "        weighted avg     0.9449    0.9374    0.9409    199800\n",
      "         samples avg     0.9317    0.9374    0.9336    199800\n",
      "\n"
     ]
    },
    {
     "data": {
      "image/png": "[encoded data removed]",
      "text/plain": [
       "<Figure size 1200x500 with 2 Axes>"
      ]
     },
     "metadata": {},
     "output_type": "display_data"
    },
    {
     "name": "stdout",
     "output_type": "stream",
     "text": [
      "Training complete!\n"
     ]
    }
   ],
   "source": [
    "import torch\n",
    "import torch.nn as nn\n",
    "import torch.optim as optim\n",
    "from torch.utils.data import DataLoader\n",
    "from sklearn.metrics import classification_report\n",
    "import numpy as np\n",
    "from tqdm import tqdm\n",
    "import matplotlib.pyplot as plt\n",
    "import os\n",
    "from torchvision import transforms\n",
    "import pandas as pd\n",
    "import json\n",
    "from sklearn.decomposition import PCA\n",
    "from sklearn.preprocessing import StandardScaler\n",
    "import rasterio\n",
    "from PIL import Image\n",
    "import warnings\n",
    "warnings.filterwarnings('ignore')\n",
    "\n",
    "# Initialize device\n",
    "device = torch.device(\"cuda\" if torch.cuda.is_available() else \"cpu\")\n",
    "print(f\"Using device: {device}\")\n",
    "\n",
    "# Hyperparameters\n",
    "BATCH_SIZE = 16\n",
    "LEARNING_RATE = 0.001\n",
    "EPOCHS = 50\n",
    "PATIENCE = 5\n",
    "N_COMPONENTS = 5\n",
    "PREFETCH_FACTOR = 1\n",
    "NUM_WORKERS = 0\n",
    "\n",
    "# Define base directory\n",
    "base_dir = r\"C:\\Users\\Charan\\SEM_FILES\\SEM_6\\Computer_vision\\Project\\EuroSAT\"\n",
    "\n",
    "# Load label map\n",
    "with open(os.path.join(base_dir, \"EuroSAT\", \"label_map.json\")) as f:\n",
    "    label_map = json.load(f)\n",
    "label_map_inv = {v: k for k, v in label_map.items()}\n",
    "\n",
    "# Robust dataset loading with validation\n",
    "def load_and_validate_data():\n",
    "    train_df = pd.read_csv(os.path.join(base_dir, \"EuroSAT\", \"train.csv\"))\n",
    "    val_df = pd.read_csv(os.path.join(base_dir, \"EuroSAT\", \"validation.csv\"))\n",
    "    \n",
    "    # Verify file existence\n",
    "    def validate_files(df):\n",
    "        missing = []\n",
    "        for idx, row in df.iterrows():\n",
    "            rgb_path = os.path.join(base_dir, \"EuroSAT\", row['Filename'])\n",
    "            tif_path = os.path.join(base_dir, \"EuroSATallBands\", row['Filename'].replace('.jpg', '.tif'))\n",
    "            if not os.path.exists(rgb_path):\n",
    "                missing.append(rgb_path)\n",
    "            if not os.path.exists(tif_path):\n",
    "                missing.append(tif_path)\n",
    "        return missing\n",
    "    \n",
    "    missing_train = validate_files(train_df)\n",
    "    missing_val = validate_files(val_df)\n",
    "    \n",
    "    if missing_train or missing_val:\n",
    "        raise FileNotFoundError(f\"Missing files:\\nTrain: {missing_train[:3]}\\nVal: {missing_val[:3]}\")\n",
    "    \n",
    "    return train_df, val_df\n",
    "\n",
    "train_df, val_df = load_and_validate_data()\n",
    "\n",
    "# Initialize PCA and Scaler\n",
    "print(\"\\nFitting StandardScaler and PCA...\")\n",
    "spectral_data = []\n",
    "for _, row in tqdm(train_df.iterrows(), total=len(train_df), desc=\"Loading spectral data\"):\n",
    "    tif_path = os.path.join(base_dir, \"EuroSATallBands\", row['Filename'].replace('.jpg', '.tif'))\n",
    "    with rasterio.open(tif_path) as src:\n",
    "        bands = src.read()  # (13, H, W)\n",
    "        spectral_data.append(bands.reshape(13, -1).T)  # (H*W, 13)\n",
    "\n",
    "spectral_data = np.concatenate(spectral_data)  # (N*H*W, 13)\n",
    "scaler = StandardScaler()\n",
    "scaler.fit(spectral_data)\n",
    "scaled_data = scaler.transform(spectral_data)\n",
    "\n",
    "pca = PCA(n_components=N_COMPONENTS)\n",
    "pca.fit(scaled_data)\n",
    "print(f\"PCA explained variance: {pca.explained_variance_ratio_.sum():.2%}\")\n",
    "\n",
    "# Initialize model\n",
    "model = MultiStreamCNN(num_classes=len(label_map), attention_heads=4).to(device)\n",
    "\n",
    "# Loss and optimizer\n",
    "criterion = nn.BCEWithLogitsLoss()\n",
    "optimizer = optim.AdamW(model.parameters(), lr=LEARNING_RATE, weight_decay=1e-4)\n",
    "scheduler = optim.lr_scheduler.ReduceLROnPlateau(optimizer, mode='min', patience=2, factor=0.5)\n",
    "grad_scaler = torch.amp.GradScaler()\n",
    "\n",
    "# Create datasets\n",
    "train_transform = transforms.Compose([\n",
    "    transforms.RandomHorizontalFlip(),\n",
    "    transforms.RandomVerticalFlip(),\n",
    "    transforms.ColorJitter(brightness=0.2, contrast=0.2, saturation=0.2)\n",
    "])\n",
    "\n",
    "train_dataset = EuroSATDataset(\n",
    "    rgb_dir=os.path.join(base_dir, \"EuroSAT\"),\n",
    "    tif_dir=os.path.join(base_dir, \"EuroSATallBands\"),\n",
    "    split_df=train_df,\n",
    "    transform=train_transform,\n",
    "    pca=pca,\n",
    "    scaler=scaler\n",
    ")\n",
    "\n",
    "val_dataset = EuroSATDataset(\n",
    "    rgb_dir=os.path.join(base_dir, \"EuroSAT\"),\n",
    "    tif_dir=os.path.join(base_dir, \"EuroSATallBands\"),\n",
    "    split_df=val_df,\n",
    "    transform=None,\n",
    "    pca=pca,\n",
    "    scaler=scaler\n",
    ")\n",
    "\n",
    "\n",
    "train_loader = create_safe_dataloader(train_dataset, shuffle=True)\n",
    "val_loader = create_safe_dataloader(val_dataset, shuffle=False)\n",
    "\n",
    "def train_epoch(model, loader, optimizer, criterion, grad_scaler, device):\n",
    "    model.train()\n",
    "    running_loss = 0.0\n",
    "    correct = 0\n",
    "    total = 0\n",
    "    \n",
    "    pbar = tqdm(loader, desc=\"Training\", leave=False)\n",
    "    for rgb, spectral, labels in pbar:\n",
    "        rgb = rgb.to(device, non_blocking=True)\n",
    "        spectral = spectral.to(device, non_blocking=True)\n",
    "        labels = labels.to(device, non_blocking=True)\n",
    "        \n",
    "        # Modified autocast with device_type\n",
    "        with torch.amp.autocast(device_type='cuda' if 'cuda' in str(device) else 'cpu'):\n",
    "            outputs = model(rgb, spectral)\n",
    "            loss = criterion(outputs, labels)\n",
    "        \n",
    "        optimizer.zero_grad(set_to_none=True)\n",
    "        grad_scaler.scale(loss).backward()\n",
    "        grad_scaler.unscale_(optimizer)\n",
    "        torch.nn.utils.clip_grad_norm_(model.parameters(), 1.0)\n",
    "        grad_scaler.step(optimizer)\n",
    "        grad_scaler.update()\n",
    "        \n",
    "        running_loss += loss.item()\n",
    "        preds = (torch.sigmoid(outputs) > 0.5).float()\n",
    "        correct += (preds == labels).all(dim=1).sum().item()\n",
    "        total += labels.size(0)\n",
    "        \n",
    "        pbar.set_postfix({\n",
    "            'loss': running_loss / (pbar.n + 1),\n",
    "            'acc': correct / total\n",
    "        })\n",
    "    \n",
    "    return running_loss / len(loader), correct / total\n",
    "\n",
    "def validate(model, loader, criterion, device):\n",
    "    model.eval()\n",
    "    running_loss = 0.0\n",
    "    correct = 0\n",
    "    total = 0\n",
    "    all_preds = []\n",
    "    all_labels = []\n",
    "    \n",
    "    with torch.no_grad():\n",
    "        pbar = tqdm(loader, desc=\"Validation\", leave=False)\n",
    "        for rgb, spectral, labels in pbar:\n",
    "            rgb = rgb.to(device, non_blocking=True)\n",
    "            spectral = spectral.to(device, non_blocking=True)\n",
    "            labels = labels.to(device, non_blocking=True)\n",
    "            \n",
    "            # Modified autocast with device_type\n",
    "            with torch.amp.autocast(device_type='cuda' if 'cuda' in str(device) else 'cpu'):\n",
    "                outputs = model(rgb, spectral)\n",
    "                loss = criterion(outputs, labels)\n",
    "            \n",
    "            running_loss += loss.item()\n",
    "            preds = (torch.sigmoid(outputs) > 0.5).float()\n",
    "            correct += (preds == labels).all(dim=1).sum().item()\n",
    "            total += labels.size(0)\n",
    "            \n",
    "            all_preds.append(preds.cpu())\n",
    "            all_labels.append(labels.cpu())\n",
    "    \n",
    "    all_preds = torch.cat(all_preds).numpy()\n",
    "    all_labels = torch.cat(all_labels).numpy()\n",
    "    \n",
    "    return running_loss / len(loader), correct / total, all_preds, all_labels\n",
    "\n",
    "if __name__ == '__main__':\n",
    "    # Windows-specific multiprocessing fix\n",
    "    import multiprocessing\n",
    "    multiprocessing.freeze_support()\n",
    "    \n",
    "    \n",
    "    # Verify data loading\n",
    "    print(\"\\nTesting data loading...\")\n",
    "    try:\n",
    "        test_batch = next(iter(train_loader))\n",
    "        print(f\"Batch loaded successfully: {[t.shape for t in test_batch]}\")\n",
    "    except Exception as e:\n",
    "        print(f\"Data loading failed: {str(e)}\")\n",
    "        exit(1)\n",
    "\n",
    "    # Training loop\n",
    "    best_val_loss = float('inf')\n",
    "    patience_counter = 0\n",
    "    train_history = {'loss': [], 'acc': [], 'val_loss': [], 'val_acc': []}\n",
    "\n",
    "    all_val_preds = []\n",
    "    all_val_labels = []\n",
    "\n",
    "    for epoch in range(EPOCHS):\n",
    "        print(f\"\\nEpoch {epoch + 1}/{EPOCHS}\")\n",
    "        \n",
    "        try:\n",
    "            train_loss, train_acc = train_epoch(model, train_loader, optimizer, criterion, grad_scaler, device)\n",
    "            val_loss, val_acc, val_preds, val_labels = validate(model, val_loader, criterion, device)\n",
    "\n",
    "            # Store predictions for final report\n",
    "            all_val_preds.append(val_preds)\n",
    "            all_val_labels.append(val_labels)\n",
    "\n",
    "        except RuntimeError as e:\n",
    "            if \"CUDA out of memory\" in str(e):\n",
    "                torch.cuda.empty_cache()\n",
    "                print(\"Reducing batch size and trying again...\")\n",
    "                BATCH_SIZE = max(8, BATCH_SIZE // 2)\n",
    "                train_loader = create_safe_dataloader(train_dataset, shuffle=True)\n",
    "                val_loader = create_safe_dataloader(val_dataset, shuffle=False)\n",
    "                continue\n",
    "            elif \"DataLoader worker\" in str(e):\n",
    "                print(\"DataLoader worker failed, reducing num_workers...\")\n",
    "                train_loader = DataLoader(train_dataset, batch_size=BATCH_SIZE, shuffle=True, num_workers=0)\n",
    "                val_loader = DataLoader(val_dataset, batch_size=BATCH_SIZE, shuffle=False, num_workers=0)\n",
    "                continue\n",
    "            else:\n",
    "                raise\n",
    "        \n",
    "        scheduler.step(val_loss)\n",
    "        \n",
    "        train_history['loss'].append(train_loss)\n",
    "        train_history['acc'].append(train_acc)\n",
    "        train_history['val_loss'].append(val_loss)\n",
    "        train_history['val_acc'].append(val_acc)\n",
    "        \n",
    "        print(f\"Train Loss: {train_loss:.4f} | Acc: {train_acc:.4f}\")\n",
    "        print(f\"Val Loss: {val_loss:.4f} | Acc: {val_acc:.4f}\")\n",
    "        final_preds = np.concatenate(all_val_preds)\n",
    "        final_labels = np.concatenate(all_val_labels)\n",
    "        \n",
    "        \n",
    "        if val_loss < best_val_loss:\n",
    "            best_val_loss = val_loss\n",
    "            patience_counter = 0\n",
    "            torch.save({\n",
    "                'epoch': epoch,\n",
    "                'model_state_dict': model.state_dict(),\n",
    "                'optimizer_state_dict': optimizer.state_dict(),\n",
    "                'loss': val_loss,\n",
    "                'metrics': train_history,\n",
    "                'pca': pca,\n",
    "                'scaler': scaler\n",
    "            }, \"best_model.pth\")\n",
    "            \n",
    "        else:\n",
    "            patience_counter += 1\n",
    "            if patience_counter >= PATIENCE:\n",
    "                print(f\"Early stopping after {PATIENCE} epochs without improvement\")\n",
    "                break\n",
    "    \n",
    "    print(\"\\nFinal Classification Report:\")\n",
    "    print(classification_report(\n",
    "            final_labels, \n",
    "            final_preds, \n",
    "            target_names=list(label_map.keys()), \n",
    "            digits=4\n",
    "            ))\n",
    "\n",
    "    # Plot results\n",
    "    plt.figure(figsize=(12, 5))\n",
    "    plt.subplot(1, 2, 1)\n",
    "    plt.plot(train_history['loss'], label='Train')\n",
    "    plt.plot(train_history['val_loss'], label='Val')\n",
    "    plt.title('Loss')\n",
    "    plt.legend()\n",
    "\n",
    "    plt.subplot(1, 2, 2)\n",
    "    plt.plot(train_history['acc'], label='Train')\n",
    "    plt.plot(train_history['val_acc'], label='Val')\n",
    "    plt.title('Accuracy')\n",
    "    plt.legend()\n",
    "\n",
    "    plt.tight_layout()\n",
    "    plt.savefig('training_curves.png')\n",
    "    plt.show()\n",
    "\n",
    "    print(\"Training complete!\")"
   ]
  },
  {
   "cell_type": "markdown",
   "metadata": {},
   "source": [
    "### Evaluation Metrics"
   ]
  },
  {
   "cell_type": "code",
   "execution_count": 44,
   "metadata": {},
   "outputs": [
    {
     "name": "stdout",
     "output_type": "stream",
     "text": [
      "Looking for spectral data at: C:\\Users\\Charan\\SEM_FILES\\SEM_6\\Computer_vision\\Project\\EuroSAT\\EuroSATallBands\\River\\River_1209.tif\n",
      "\n",
      "Top 2 Predictions for River_1209.jpg:\n",
      "PermanentCrop: 0.3418\n",
      "River: 0.0313\n"
     ]
    },
    {
     "data": {
      "image/png": "[encoded data removed]",
      "text/plain": [
       "<Figure size 1000x500 with 2 Axes>"
      ]
     },
     "metadata": {},
     "output_type": "display_data"
    }
   ],
   "source": [
    "# Testing Code for Jupyter Notebook\n",
    "import torch\n",
    "import numpy as np\n",
    "from torchvision import transforms\n",
    "from PIL import Image\n",
    "import rasterio\n",
    "import os\n",
    "import json\n",
    "import matplotlib.pyplot as plt\n",
    "from IPython.display import display\n",
    "from sklearn.decomposition import PCA\n",
    "\n",
    "# Configuration\n",
    "device = torch.device(\"cuda\" if torch.cuda.is_available() else \"cpu\")\n",
    "base_dir = r\"C:\\Users\\Charan\\SEM_FILES\\SEM_6\\Computer_vision\\Project\\EuroSAT\"\n",
    "N_COMPONENTS = 5  # Should match your training setup\n",
    "\n",
    "# Load label map\n",
    "with open(os.path.join(base_dir, \"EuroSAT\", \"label_map.json\")) as f:\n",
    "    label_map = json.load(f)\n",
    "label_map_inv = {v: k for k, v in label_map.items()}\n",
    "\n",
    "def load_model(model_path, num_classes):\n",
    "    \"\"\"Load the saved model from checkpoint\"\"\"\n",
    "    # Add PCA to safe globals before loading\n",
    "    torch.serialization.add_safe_globals([PCA])\n",
    "    \n",
    "    # Load with weights_only=False since we trust the source\n",
    "    checkpoint = torch.load(model_path, map_location=device, weights_only=False)\n",
    "    \n",
    "    # Initialize model architecture (using the class defined in this notebook)\n",
    "    model = MultiStreamCNN(num_classes=num_classes).to(device)\n",
    "    \n",
    "    # Load trained weights\n",
    "    model.load_state_dict(checkpoint['model_state_dict'])\n",
    "    model.eval()\n",
    "    \n",
    "    return model, checkpoint['pca'], checkpoint['scaler']\n",
    "\n",
    "# Load the model and preprocessing components\n",
    "model, pca, scaler = load_model(\"best_model.pth\", len(label_map))\n",
    "\n",
    "def preprocess_rgb(image_path):\n",
    "    \"\"\"Preprocess RGB image for model input\"\"\"\n",
    "    transform = transforms.Compose([\n",
    "        transforms.Resize((64, 64)),\n",
    "        transforms.ToTensor(),\n",
    "        transforms.Normalize(mean=[0.485, 0.456, 0.406], \n",
    "                            std=[0.229, 0.224, 0.225])\n",
    "    ])\n",
    "    img = Image.open(image_path).convert('RGB')\n",
    "    return transform(img).unsqueeze(0)  # Add batch dimension\n",
    "\n",
    "def preprocess_spectral(tif_path, pca, scaler):\n",
    "    \"\"\"Preprocess multi-spectral image using PCA\"\"\"\n",
    "    with rasterio.open(tif_path) as src:\n",
    "        bands = src.read()  # (13, H, W)\n",
    "    \n",
    "    # Flatten and standardize\n",
    "    h, w = bands.shape[1], bands.shape[2]\n",
    "    flattened = bands.reshape(13, -1).T  # (H*W, 13)\n",
    "    scaled = scaler.transform(flattened)\n",
    "    \n",
    "    # Apply PCA\n",
    "    reduced = pca.transform(scaled)  # (H*W, n_components)\n",
    "    reduced = reduced.T.reshape(N_COMPONENTS, h, w)  # (n_components, H, W)\n",
    "    \n",
    "    # Convert to tensor and resize\n",
    "    tensor = torch.from_numpy(reduced).float()\n",
    "    tensor = torch.nn.functional.interpolate(\n",
    "        tensor.unsqueeze(0), \n",
    "        size=(64, 64), \n",
    "        mode='bilinear'\n",
    "    )\n",
    "    return tensor.squeeze(0)\n",
    "\n",
    "def predict_top2(image_path):\n",
    "    \"\"\"Make prediction and return top 2 classes with probabilities\"\"\"\n",
    "    # Get corresponding TIFF path - corrected to use image_path parameter\n",
    "    relative_path = os.path.relpath(image_path, start=os.path.join(base_dir, \"EuroSAT\"))\n",
    "    tif_path = os.path.join(base_dir, \"EuroSATallBands\", relative_path.replace(\".jpg\", \".tif\"))\n",
    "    \n",
    "    print(f\"Looking for spectral data at: {tif_path}\")  # Debug output\n",
    "    \n",
    "    if not os.path.exists(tif_path):\n",
    "        raise FileNotFoundError(f\"Spectral data not found at {tif_path}\")\n",
    "    \n",
    "    # Rest of the function remains the same...\n",
    "    rgb_tensor = preprocess_rgb(image_path).to(device)\n",
    "    spectral_tensor = preprocess_spectral(tif_path, pca, scaler).unsqueeze(0).to(device)\n",
    "    \n",
    "    with torch.no_grad():\n",
    "        outputs = model(rgb_tensor, spectral_tensor)\n",
    "        probs = torch.sigmoid(outputs).squeeze().cpu().numpy()\n",
    "    \n",
    "    top2_indices = np.argsort(probs)[-2:][::-1]\n",
    "    top2_classes = [label_map_inv[i] for i in top2_indices]\n",
    "    top2_probs = [probs[i] for i in top2_indices]\n",
    "    \n",
    "    \n",
    "    return top2_classes, top2_probs\n",
    "\n",
    "def visualize_prediction(image_path, top2_classes, top2_probs):\n",
    "    \"\"\"Visualize input image and predictions\"\"\"\n",
    "    img = Image.open(image_path)\n",
    "    \n",
    "    plt.figure(figsize=(10, 5))\n",
    "    plt.subplot(1, 2, 1)\n",
    "    plt.imshow(img)\n",
    "    plt.axis('off')\n",
    "    plt.title('Input Image')\n",
    "    \n",
    "    plt.subplot(1, 2, 2)\n",
    "    plt.barh(top2_classes, top2_probs, color='skyblue')\n",
    "    plt.xlabel('Probability')\n",
    "    plt.title('Top 2 Predictions')\n",
    "    plt.xlim(0, 1)\n",
    "    \n",
    "    for i, prob in enumerate(top2_probs):\n",
    "        plt.text(prob, i, f\"{prob*100:.2f}%\", va='center')\n",
    "    \n",
    "    plt.tight_layout()\n",
    "    plt.show()\n",
    "\n",
    "# Test with a sample image\n",
    "sample_image = os.path.join(base_dir, \"EuroSAT\", \"River\", \"River_1209.jpg\")\n",
    "\n",
    "if os.path.exists(sample_image):\n",
    "    try:\n",
    "        classes, probs = predict_top2(sample_image)\n",
    "        print(f\"\\nTop 2 Predictions for {os.path.basename(sample_image)}:\")\n",
    "        for cls, prob in zip(classes, probs):\n",
    "            print(f\"{cls}: {prob:.4f}\")\n",
    "        \n",
    "        visualize_prediction(sample_image, classes, probs)\n",
    "    except Exception as e:\n",
    "        print(f\"Error during prediction: {str(e)}\")\n",
    "else:\n",
    "    print(f\"Image not found at {sample_image}\")\n",
    "    print(\"Please provide a valid path to an image from your EuroSAT dataset\")"
   ]
  },
  {
   "cell_type": "markdown",
   "metadata": {},
   "source": [
    "### Gradio App"
   ]
  },
  {
   "cell_type": "code",
   "execution_count": null,
   "metadata": {},
   "outputs": [
    {
     "name": "stdout",
     "output_type": "stream",
     "text": [
      "* Running on local URL:  http://127.0.0.1:7860\n",
      "\n",
      "To create a public link, set `share=True` in `launch()`.\n"
     ]
    },
    {
     "data": {
      "text/html": [
       "<div><iframe src=\"http://127.0.0.1:7860/\" width=\"100%\" height=\"500\" allow=\"autoplay; camera; microphone; clipboard-read; clipboard-write;\" frameborder=\"0\" allowfullscreen></iframe></div>"
      ],
      "text/plain": [
       "<IPython.core.display.HTML object>"
      ]
     },
     "metadata": {},
     "output_type": "display_data"
    },
    {
     "data": {
      "text/plain": []
     },
     "execution_count": 14,
     "metadata": {},
     "output_type": "execute_result"
    }
   ],
   "source": [
    "import gradio as gr\n",
    "import numpy as np\n",
    "import torch\n",
    "from torchvision import transforms\n",
    "import matplotlib.pyplot as plt\n",
    "from PIL import Image\n",
    "import rasterio\n",
    "import tempfile\n",
    "import os\n",
    "\n",
    "# Load model and preprocessing components (should be defined before the predict function)\n",
    "device = torch.device(\"cuda\" if torch.cuda.is_available() else \"cpu\")\n",
    "model, pca, scaler = load_model(\"best_model.pth\", len(label_map))\n",
    "\n",
    "def preprocess_spectral(tif_array, pca, scaler):\n",
    "    \"\"\"Preprocess multi-spectral numpy array using PCA\"\"\"\n",
    "    # Flatten and standardize\n",
    "    h, w = tif_array.shape[1], tif_array.shape[2]\n",
    "    flattened = tif_array.reshape(13, -1).T  # (H*W, 13)\n",
    "    scaled = scaler.transform(flattened)\n",
    "    \n",
    "    # Apply PCA\n",
    "    reduced = pca.transform(scaled)  # (H*W, n_components)\n",
    "    reduced = reduced.T.reshape(N_COMPONENTS, h, w)  # (n_components, H, W)\n",
    "    \n",
    "    # Convert to tensor and resize\n",
    "    tensor = torch.from_numpy(reduced).float()\n",
    "    tensor = torch.nn.functional.interpolate(\n",
    "        tensor.unsqueeze(0), \n",
    "        size=(64, 64), \n",
    "        mode='bilinear'\n",
    "    )\n",
    "    return tensor.squeeze(0)\n",
    "\n",
    "def predict(rgb_img, tif_file):\n",
    "    \"\"\"Make prediction and return top 2 classes with probabilities\"\"\"\n",
    "    try:\n",
    "        # Get the file path from the uploaded file dictionary\n",
    "        tif_path = tif_file.name\n",
    "        \n",
    "        # Read the TIFF file with rasterio\n",
    "        with rasterio.open(tif_path) as src:\n",
    "            tif_array = src.read()  # Read all bands (13, H, W)\n",
    "        \n",
    "        # Preprocess RGB image\n",
    "        transform = transforms.Compose([\n",
    "            transforms.Resize((64, 64)),\n",
    "            transforms.ToTensor(),\n",
    "            transforms.Normalize(mean=[0.485, 0.456, 0.406], \n",
    "                               std=[0.229, 0.224, 0.225])\n",
    "        ])\n",
    "        rgb_tensor = transform(Image.fromarray(rgb_img)).unsqueeze(0).to(device)\n",
    "        \n",
    "        # Preprocess spectral data (now passing pca and scaler)\n",
    "        spectral_tensor = preprocess_spectral(tif_array, pca, scaler).unsqueeze(0).to(device)\n",
    "        \n",
    "        # Predict\n",
    "        with torch.no_grad():\n",
    "            outputs = model(rgb_tensor, spectral_tensor)\n",
    "            probs = torch.sigmoid(outputs).squeeze().cpu().numpy()\n",
    "        \n",
    "        # Get top 2 predictions\n",
    "        top2_indices = np.argsort(probs)[-2:][::-1]\n",
    "        top2_classes = [label_map_inv[i] for i in top2_indices]\n",
    "        top2_probs = [probs[i] for i in top2_indices]\n",
    "        \n",
    "        # Create a bar plot\n",
    "        fig, ax = plt.subplots(figsize=(8, 4))\n",
    "        bars = ax.barh(top2_classes, top2_probs, color='skyblue')\n",
    "        ax.set_xlim(0, 1)\n",
    "        ax.set_title('Top 2 Predictions')\n",
    "        ax.set_xlabel('Probability')\n",
    "        \n",
    "        # Add probability values to the bars\n",
    "        for bar, prob in zip(bars, top2_probs):\n",
    "            width = bar.get_width()\n",
    "            ax.text(width, bar.get_y() + bar.get_height()/2, \n",
    "                   f'{prob:.4f}', \n",
    "                   va='center', ha='left', fontsize=10)\n",
    "        \n",
    "        plt.tight_layout()\n",
    "        return fig\n",
    "        \n",
    "    except Exception as e:\n",
    "        print(f\"Error during prediction: {str(e)}\")\n",
    "        raise gr.Error(f\"Prediction failed: {str(e)}\")\n",
    "\n",
    "# Create Gradio interface\n",
    "with gr.Blocks(title=\"EuroSAT Land Cover Classification\") as demo:\n",
    "    gr.Markdown(\"# EuroSAT Land Cover Classification\")\n",
    "    gr.Markdown(\"Upload RGB and corresponding multi-spectral images for classification\")\n",
    "    \n",
    "    with gr.Row():\n",
    "        rgb_input = gr.Image(label=\"RGB Image (JPG/PNG)\")\n",
    "        tif_input = gr.File(label=\"Multi-spectral Image (TIFF)\", file_types=[\".tif\"])\n",
    "    \n",
    "    submit_btn = gr.Button(\"Classify\")\n",
    "    \n",
    "    with gr.Row():\n",
    "        output_plot = gr.Plot(label=\"Top 2 Predictions\")\n",
    "    \n",
    "    submit_btn.click(\n",
    "        fn=predict,\n",
    "        inputs=[rgb_input, tif_input],\n",
    "        outputs=output_plot\n",
    "    )\n",
    "\n",
    "demo.launch()"
   ]
  },
  {
   "cell_type": "code",
   "execution_count": null,
   "metadata": {},
   "outputs": [],
   "source": [
    "import os\n",
    "\n",
    "# Load model and preprocessing components (should be defined before the predict function)\n",
    "device = torch.device(\"cuda\" if torch.cuda.is_available() else \"cpu\")\n",
    "model, pca, scaler = load_model(\"best_model.pth\", len(label_map))\n",
    "\n",
    "def preprocess_spectral(tif_array, pca, scaler):\n",
    "    \"\"\"Preprocess multi-spectral numpy array using PCA\"\"\"\n",
    "    # Flatten and standardize\n",
    "    h, w = tif_array.shape[1], tif_array.shape[2]\n",
    "    flattened = tif_array.reshape(13, -1).T  # (H*W, 13)\n",
    "    scaled = scaler.transform(flattened)\n",
    "    \n",
    "    # Apply PCA\n",
    "    reduced = pca.transform(scaled)  # (H*W, n_components)\n",
    "    reduced = reduced.T.reshape(N_COMPONENTS, h, w)  # (n_components, H, W)\n",
    "    \n",
    "    # Convert to tensor and resize\n",
    "    tensor = torch.from_numpy(reduced).float()\n",
    "    tensor = torch.nn.functional.interpolate(\n",
    "        tensor.unsqueeze(0), \n",
    "        size=(64, 64), \n",
    "        mode='bilinear'\n",
    "    )\n",
    "    return tensor.squeeze(0)\n",
    "\n",
    "def predict(rgb_img, tif_file):\n",
    "    \"\"\"Make prediction and return top 2 classes with probabilities\"\"\"\n",
    "    try:\n",
    "        # Get the file path from the uploaded file dictionary\n",
    "        tif_path = tif_file.name\n",
    "        \n",
    "        # Read the TIFF file with rasterio\n",
    "        with rasterio.open(tif_path) as src:\n",
    "            tif_array = src.read()  # Read all bands (13, H, W)\n",
    "        \n",
    "        # Preprocess RGB image\n",
    "        transform = transforms.Compose([\n",
    "            transforms.Resize((64, 64)),\n",
    "            transforms.ToTensor(),\n",
    "            transforms.Normalize(mean=[0.485, 0.456, 0.406], \n",
    "                               std=[0.229, 0.224, 0.225])\n",
    "        ])\n",
    "        rgb_tensor = transform(Image.fromarray(rgb_img)).unsqueeze(0).to(device)\n",
    "        \n",
    "        # Preprocess spectral data (now passing pca and scaler)\n",
    "        spectral_tensor = preprocess_spectral(tif_array, pca, scaler).unsqueeze(0).to(device)\n",
    "        \n",
    "        # Predict\n",
    "        with torch.no_grad():\n",
    "            outputs = model(rgb_tensor, spectral_tensor)\n",
    "            probs = torch.sigmoid(outputs).squeeze().cpu().numpy()\n",
    "        \n",
    "        # Get top 2 predictions\n",
    "        top2_indices = np.argsort(probs)[-2:][::-1]\n",
    "        top2_classes = [label_map_inv[i] for i in top2_indices]\n",
    "        top2_probs = [probs[i] for i in top2_indices]\n",
    "        \n",
    "        # Create a bar plot\n",
    "        fig, ax = plt.subplots(figsize=(8, 4))\n",
    "        bars = ax.barh(top2_classes, top2_probs, color='skyblue')\n",
    "        ax.set_xlim(0, 1)\n",
    "        ax.set_title('Top 2 Predictions')\n",
    "        ax.set_xlabel('Probability')\n",
    "        \n",
    "        # Add probability values to the bars\n",
    "        for bar, prob in zip(bars, top2_probs):\n",
    "            width = bar.get_width()\n",
    "            ax.text(width, bar.get_y() + bar.get_height()/2, \n",
    "                   f'{prob:.4f}', \n",
    "                   va='center', ha='left', fontsize=10)\n",
    "        \n",
    "        plt.tight_layout()\n",
    "        return fig\n",
    "        \n",
    "    except Exception as e:\n",
    "        print(f\"Error during prediction: {str(e)}\")\n",
    "        raise gr.Error(f\"Prediction failed: {str(e)}\")\n",
    "\n",
    "# Create Gradio interface\n",
    "with gr.Blocks(title=\"EuroSAT Land Cover Classification\") as demo:\n",
    "    gr.Markdown(\"# EuroSAT Land Cover Classification\")\n",
    "    gr.Markdown(\"Upload RGB and corresponding multi-spectral images for classification\")\n",
    "    \n",
    "    with gr.Row():\n",
    "        rgb_input = gr.Image(label=\"RGB Image (JPG/PNG)\")\n",
    "        tif_input = gr.File(label=\"Multi-spectral Image (TIFF)\", file_types=[\".tif\"])\n",
    "    \n",
    "    submit_btn = gr.Button(\"Classify\")\n",
    "    \n",
    "    with gr.Row():\n",
    "        output_plot = gr.Plot(label=\"Top 2 Predictions\")\n",
    "    \n",
    "    submit_btn.click(\n",
    "        fn=predict,\n",
    "        inputs=[rgb_input, tif_input],\n",
    "        outputs=output_plot\n",
    "    )\n",
    "\n",
    "demo.launch()"
   ]
  },
  {
   "cell_type": "code",
   "execution_count": 40,
   "metadata": {},
   "outputs": [
    {
     "data": {
      "image/png": "[encoded data removed]",
      "text/plain": [
       "<Figure size 1000x1000 with 2 Axes>"
      ]
     },
     "metadata": {},
     "output_type": "display_data"
    }
   ],
   "source": [
    "from sklearn.metrics import confusion_matrix, ConfusionMatrixDisplay\n",
    "import matplotlib.pyplot as plt\n",
    "\n",
    "# Compute the confusion matrix\n",
    "cm = confusion_matrix(y_true, y_pred)\n",
    "\n",
    "# Display the confusion matrix\n",
    "disp = ConfusionMatrixDisplay(confusion_matrix=cm, display_labels=[label_map_inv[i] for i in range(len(label_map))])\n",
    "fig, ax = plt.subplots(figsize=(10, 10))\n",
    "disp.plot(include_values=True, cmap='viridis', ax=ax, xticks_rotation=45)\n",
    "plt.title(\"Confusion Matrix for Test Set\")\n",
    "plt.tight_layout()\n",
    "plt.show()\n"
   ]
  },
  {
   "cell_type": "code",
   "execution_count": 20,
   "metadata": {},
   "outputs": [
    {
     "name": "stderr",
     "output_type": "stream",
     "text": [
      "Evaluating: 100%|██████████| 2363/2363 [03:38<00:00, 10.81it/s]\n",
      "Evaluating: 100%|██████████| 675/675 [01:05<00:00, 10.37it/s]\n",
      "Evaluating: 100%|██████████| 338/338 [00:32<00:00, 10.30it/s]"
     ]
    },
    {
     "name": "stdout",
     "output_type": "stream",
     "text": [
      "\n",
      " Accuracy Report:\n",
      "                    train    val    test\n",
      "AnnualCrop           0.9952  0.9898  0.9904\n",
      "Forest               0.9981  0.9978  0.9981\n",
      "HerbaceousVegetation 0.9915  0.9887  0.9889\n",
      "Highway              0.9963  0.9907  0.9885\n",
      "Industrial           0.9989  0.9950  0.9941\n",
      "Pasture              0.9950  0.9893  0.9930\n",
      "PermanentCrop        0.9932  0.9881  0.9848\n",
      "Residential          0.9992  0.9961  0.9974\n",
      "River                0.9981  0.9939  0.9930\n",
      "SeaLake              0.9996  0.9985  0.9978\n"
     ]
    },
    {
     "name": "stderr",
     "output_type": "stream",
     "text": [
      "\n"
     ]
    }
   ],
   "source": [
    "import torch\n",
    "from torch.utils.data import DataLoader\n",
    "from sklearn.metrics import classification_report\n",
    "import numpy as np\n",
    "from tqdm import tqdm\n",
    "import os\n",
    "import pandas as pd\n",
    "\n",
    "# Ensure device is defined\n",
    "device = torch.device(\"cuda\" if torch.cuda.is_available() else \"cpu\")\n",
    "\n",
    "# Load the trained model (using weights_only=False since checkpoint includes PCA/scaler)\n",
    "model_path = \"best_model.pth\"\n",
    "checkpoint = torch.load(model_path, map_location=device, weights_only=False)\n",
    "model = MultiStreamCNN(num_classes=len(label_map)).to(device)  # Replace with your model class\n",
    "model.load_state_dict(checkpoint['model_state_dict'])\n",
    "model.eval()\n",
    "\n",
    "# Define base directory\n",
    "base_dir = r\"C:\\Users\\Charan\\SEM_FILES\\SEM_6\\Computer_vision\\Project\\EuroSAT\"\n",
    "\n",
    "# Load label map\n",
    "with open(os.path.join(base_dir, \"EuroSAT\", \"label_map.json\")) as f:\n",
    "    label_map = json.load(f)\n",
    "\n",
    "# Load dataset splits with full sizes\n",
    "train_df = pd.read_csv(os.path.join(base_dir, \"EuroSAT\", \"train.csv\"))\n",
    "val_df = pd.read_csv(os.path.join(base_dir, \"EuroSAT\", \"validation.csv\"))\n",
    "test_df = pd.read_csv(os.path.join(base_dir, \"EuroSAT\", \"test.csv\"))\n",
    "# Recreate datasets and dataloaders (using classes defined in cell 6)\n",
    "train_dataset = EuroSATDataset(\n",
    "    rgb_dir=os.path.join(base_dir, \"EuroSAT\"),\n",
    "    tif_dir=os.path.join(base_dir, \"EuroSATallBands\"),\n",
    "    split_df=train_df,\n",
    "    transform=None,\n",
    "    pca=checkpoint.get('pca', None),\n",
    "    scaler=checkpoint.get('scaler', None)\n",
    ")\n",
    "val_dataset = EuroSATDataset(\n",
    "    rgb_dir=os.path.join(base_dir, \"EuroSAT\"),\n",
    "    tif_dir=os.path.join(base_dir, \"EuroSATallBands\"),\n",
    "    split_df=val_df,\n",
    "    transform=None,\n",
    "    pca=checkpoint.get('pca', None),\n",
    "    scaler=checkpoint.get('scaler', None)\n",
    ")\n",
    "test_dataset = EuroSATDataset(\n",
    "    rgb_dir=os.path.join(base_dir, \"EuroSAT\"),\n",
    "    tif_dir=os.path.join(base_dir, \"EuroSATallBands\"),\n",
    "    split_df=test_df,\n",
    "    transform=None,\n",
    "    pca=checkpoint.get('pca', None),\n",
    "    scaler=checkpoint.get('scaler', None)\n",
    ")\n",
    "\n",
    "train_loader = create_safe_dataloader(train_dataset, shuffle=False)\n",
    "val_loader = create_safe_dataloader(val_dataset, shuffle=False)\n",
    "test_loader = create_safe_dataloader(test_dataset, shuffle=False)\n",
    "\n",
    "# Function to get predictions and labels\n",
    "def get_predictions_and_labels(loader):\n",
    "    all_preds = []\n",
    "    all_labels = []\n",
    "    with torch.no_grad():\n",
    "        for rgb, spectral, labels in tqdm(loader, desc=\"Evaluating\"):\n",
    "            rgb = rgb.to(device)\n",
    "            spectral = spectral.to(device)\n",
    "            labels = labels.to(device)\n",
    "            outputs = model(rgb, spectral)\n",
    "            preds = (torch.sigmoid(outputs) > 0.5).float()  # Threshold at 0.5\n",
    "            all_preds.append(preds.cpu().numpy())\n",
    "            all_labels.append(labels.cpu().numpy())\n",
    "    return np.concatenate(all_preds), np.concatenate(all_labels)\n",
    "\n",
    "# Get predictions and labels for all sets\n",
    "train_preds, train_labels = get_predictions_and_labels(train_loader)\n",
    "val_preds, val_labels = get_predictions_and_labels(val_loader)\n",
    "test_preds, test_labels = get_predictions_and_labels(test_loader)\n",
    "\n",
    "# Compute class-wise accuracy\n",
    "def classwise_accuracy(preds, labels):\n",
    "    accuracies = []\n",
    "    for class_idx in range(preds.shape[1]):  # Iterate over each class\n",
    "        class_preds = preds[:, class_idx]\n",
    "        class_labels = labels[:, class_idx]\n",
    "        correct = (class_preds == class_labels).sum()\n",
    "        total = class_labels.size\n",
    "        accuracy = correct / total\n",
    "        accuracies.append(accuracy)\n",
    "    return accuracies\n",
    "\n",
    "train_accuracies = classwise_accuracy(train_preds, train_labels)\n",
    "val_accuracies = classwise_accuracy(val_preds, val_labels)\n",
    "test_accuracies = classwise_accuracy(test_preds, test_labels)\n",
    "\n",
    "# Print results in structured format like the classification report\n",
    "print(\"\\n Accuracy Report:\")\n",
    "print(\" \" * 20 + \"train    val    test\")\n",
    "for class_name, train_acc, val_acc, test_acc in zip(label_map.keys(), train_accuracies, val_accuracies, test_accuracies):\n",
    "    print(f\"{class_name:<20} {train_acc:.4f}  {val_acc:.4f}  {test_acc:.4f}\")"
   ]
  },
  {
   "cell_type": "code",
   "execution_count": 27,
   "metadata": {},
   "outputs": [
    {
     "name": "stdout",
     "output_type": "stream",
     "text": [
      "\n",
      "Sample Counts per Class:\n",
      "\n",
      "                    train_cnt  val_cnt  test_cnt\n",
      "AnnualCrop           2100      600      300\n",
      "Forest               2100      600      300\n",
      "HerbaceousVegetation 2100      600      300\n",
      "Highway              1750      500      250\n",
      "Industrial           1750      500      250\n",
      "Pasture              1400      400      200\n",
      "PermanentCrop        1750      500      250\n",
      "Residential          2100      600      300\n",
      "River                1750      500      250\n",
      "SeaLake              2100      600      300\n"
     ]
    }
   ],
   "source": [
    "import pandas as pd\n",
    "import os\n",
    "\n",
    "# Count samples per class in each dataset\n",
    "def count_samples_per_class(df, label_map):\n",
    "    class_counts = {cls: 0 for cls in label_map.keys()}\n",
    "    if 'Label' not in df.columns:\n",
    "        raise KeyError(\"Column 'Label' not found in DataFrame. Please check your CSV structure.\")\n",
    "    \n",
    "    for idx, row in df.iterrows():\n",
    "        cls_idx = row['Label']  # Single label index\n",
    "        cls_name = list(label_map.keys())[cls_idx]  # Map index to class name\n",
    "        class_counts[cls_name] += 1\n",
    "    return class_counts\n",
    "\n",
    "# Define base directory\n",
    "base_dir = r\"C:\\Users\\Charan\\SEM_FILES\\SEM_6\\Computer_vision\\Project\\EuroSAT\"\n",
    "\n",
    "# Load label map\n",
    "with open(os.path.join(base_dir, \"EuroSAT\", \"label_map.json\")) as f:\n",
    "    label_map = json.load(f)\n",
    "\n",
    "# Load dataset splits with full sizes\n",
    "train_df = pd.read_csv(os.path.join(base_dir, \"EuroSAT\", \"train.csv\"))  # 18,900 samples\n",
    "val_df = pd.read_csv(os.path.join(base_dir, \"EuroSAT\", \"validation.csv\"))  # 5,400 samples\n",
    "test_df = pd.read_csv(os.path.join(base_dir, \"EuroSAT\", \"test.csv\"))  # 2,700 samples\n",
    "\n",
    "# Count samples per class\n",
    "train_counts = count_samples_per_class(train_df, label_map)\n",
    "val_counts = count_samples_per_class(val_df, label_map)\n",
    "test_counts = count_samples_per_class(test_df, label_map)\n",
    "\n",
    "# Print results with sample counts\n",
    "print(\"\\nSample Counts per Class:\\n\")\n",
    "print(\" \" * 20 + \"train_cnt  val_cnt  test_cnt\")\n",
    "for class_name, train_cnt, val_cnt, test_cnt in zip(\n",
    "    label_map.keys(),\n",
    "    [train_counts[cls] for cls in label_map.keys()],\n",
    "    [val_counts[cls] for cls in label_map.keys()],\n",
    "    [test_counts[cls] for cls in label_map.keys()]\n",
    "):\n",
    "    print(f\"{class_name:<20} {train_cnt:4d}     {val_cnt:4d}     {test_cnt:4d}\")"
   ]
  }
 ],
 "metadata": {
  "kernelspec": {
   "display_name": "torch",
   "language": "python",
   "name": "python3"
  },
  "language_info": {
   "codemirror_mode": {
    "name": "ipython",
    "version": 3
   },
   "file_extension": ".py",
   "mimetype": "text/x-python",
   "name": "python",
   "nbconvert_exporter": "python",
   "pygments_lexer": "ipython3",
   "version": "3.11.9"
  }
 },
 "nbformat": 4,
 "nbformat_minor": 2
}
